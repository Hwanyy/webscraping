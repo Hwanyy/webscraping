{
 "cells": [
  {
   "cell_type": "markdown",
   "metadata": {},
   "source": [
    "# 웹 스크래핑 따라하기\n",
    "\n",
    "참고 : https://www.youtube.com/watch?v=yQ20jZwDjTE&list=PLMsa_0kAjjrd8hYYCwbAuDsXZmHpqHvlV&index=4"
   ]
  },
  {
   "cell_type": "markdown",
   "metadata": {},
   "source": [
    "웹 크롤링 vs 웹 스크래핑\n",
    "\n",
    "- 웹 스크래핑 : 페이지 내에서 필요한 부분만 가져오는 것\n",
    "- 웹 크롤링 : 페이지 내에서 허용된 링크들을 따라가며 마구잡이로 갖고오는 것"
   ]
  },
  {
   "cell_type": "markdown",
   "metadata": {},
   "source": [
    "HTML : 집의 뼈대 <br>\n",
    "CSS  : 집의 인테리어 <br>\n",
    "JS   : 살아있게"
   ]
  },
  {
   "cell_type": "code",
   "execution_count": null,
   "metadata": {},
   "outputs": [],
   "source": []
  }
 ],
 "metadata": {
  "kernelspec": {
   "display_name": "venv94",
   "language": "python",
   "name": "venv94"
  },
  "language_info": {
   "codemirror_mode": {
    "name": "ipython",
    "version": 3
   },
   "file_extension": ".py",
   "mimetype": "text/x-python",
   "name": "python",
   "nbconvert_exporter": "python",
   "pygments_lexer": "ipython3",
   "version": "3.6.8"
  }
 },
 "nbformat": 4,
 "nbformat_minor": 4
}
